{
 "cells": [
  {
   "cell_type": "code",
   "execution_count": 1,
   "metadata": {
    "collapsed": true
   },
   "outputs": [],
   "source": [
    "import json\n",
    "import numpy as np\n",
    "import random\n",
    "import pandas as pd\n",
    "import csv\n",
    "from collections import Counter\n",
    "import matplotlib.pyplot as plt\n",
    "import pickle"
   ]
  },
  {
   "cell_type": "code",
   "execution_count": 5,
   "metadata": {
    "collapsed": false
   },
   "outputs": [],
   "source": [
    "small_user_item = {}\n",
    "small_user_item_rating = {}\n",
    "with open(\"ml-100k/ratings.csv\", \"rb\") as infile:\n",
    "    reader = csv.reader(infile)\n",
    "    next(reader, None)  # skip the headers\n",
    "    for row in reader:\n",
    "\n",
    "        u = int(row[0])\n",
    "        b = int(row[1])\n",
    "        r = float(row[2])\n",
    "        try:\n",
    "            small_user_item[u].append(b)\n",
    "        except:\n",
    "            small_user_item[u] = [b]\n",
    "        small_user_item_rating[(u,b)] = r"
   ]
  },
  {
   "cell_type": "code",
   "execution_count": 6,
   "metadata": {
    "collapsed": false
   },
   "outputs": [
    {
     "data": {
      "text/plain": [
       "610"
      ]
     },
     "execution_count": 6,
     "metadata": {},
     "output_type": "execute_result"
    }
   ],
   "source": [
    "len(small_user_item)"
   ]
  },
  {
   "cell_type": "code",
   "execution_count": 7,
   "metadata": {
    "collapsed": true
   },
   "outputs": [],
   "source": [
    "all_movie = []\n",
    "for elem in small_user_item:\n",
    "    all_movie += small_user_item[elem]\n",
    "all_movie = list(set(all_movie))"
   ]
  },
  {
   "cell_type": "code",
   "execution_count": 8,
   "metadata": {
    "collapsed": true
   },
   "outputs": [],
   "source": [
    "movie_id_to_index = {}\n",
    "for elem in all_movie:\n",
    "    if elem not in movie_id_to_index:\n",
    "        movie_id_to_index[elem] = len(movie_id_to_index)"
   ]
  },
  {
   "cell_type": "code",
   "execution_count": 10,
   "metadata": {
    "collapsed": false
   },
   "outputs": [],
   "source": [
    "movie_index_to_id = {k:v for v,k in movie_id_to_index.items()}"
   ]
  },
  {
   "cell_type": "code",
   "execution_count": 11,
   "metadata": {
    "collapsed": false
   },
   "outputs": [
    {
     "data": {
      "text/plain": [
       "9724"
      ]
     },
     "execution_count": 11,
     "metadata": {},
     "output_type": "execute_result"
    }
   ],
   "source": [
    "len(movie_index_to_id)"
   ]
  },
  {
   "cell_type": "code",
   "execution_count": 12,
   "metadata": {
    "collapsed": false
   },
   "outputs": [],
   "source": [
    "TRAIN = {}\n",
    "VALIDATE = {}\n",
    "TEST = {}\n",
    "\n",
    "for elem in small_user_item:\n",
    "    total_len = len(small_user_item[elem])\n",
    "    a = small_user_item[elem]\n",
    "    random.shuffle(a)\n",
    "    tr = a[:int(round(total_len*0.6))]\n",
    "    va = a[int(round(total_len*0.6)):int(round(total_len*0.8))]\n",
    "    te = a[int(round(total_len*0.8)):]\n",
    "    TRAIN[elem] = tr\n",
    "    VALIDATE[elem] = va\n",
    "    TEST[elem] = te"
   ]
  },
  {
   "cell_type": "code",
   "execution_count": 13,
   "metadata": {
    "collapsed": false
   },
   "outputs": [],
   "source": [
    "TRAIN_list = []\n",
    "VALI_list = []\n",
    "TEST_list = []\n",
    "\n",
    "for u in TRAIN:\n",
    "    for b in TRAIN[u]:\n",
    "        if small_user_item_rating[(u,b)] < 3:\n",
    "            TRAIN_list.append((u,movie_id_to_index[b],small_user_item_rating[(u,b)],0))\n",
    "        elif small_user_item_rating[(u,b)] >= 3:\n",
    "            TRAIN_list.append((u,movie_id_to_index[b],small_user_item_rating[(u,b)],1))\n",
    "            \n",
    "for u in VALIDATE:\n",
    "    for b in VALIDATE[u]:\n",
    "        if small_user_item_rating[(u,b)] < 3:\n",
    "            VALI_list.append((u,movie_id_to_index[b],small_user_item_rating[(u,b)],0))\n",
    "        elif small_user_item_rating[(u,b)] >= 3:\n",
    "            VALI_list.append((u,movie_id_to_index[b],small_user_item_rating[(u,b)],1))\n",
    "            \n",
    "for u in TEST:\n",
    "    for b in TEST[u]:\n",
    "        if small_user_item_rating[(u,b)] < 3:\n",
    "            TEST_list.append((u,movie_id_to_index[b],small_user_item_rating[(u,b)],0))\n",
    "        elif small_user_item_rating[(u,b)] >= 3:\n",
    "            TEST_list.append((u,movie_id_to_index[b],small_user_item_rating[(u,b)],1))"
   ]
  },
  {
   "cell_type": "code",
   "execution_count": 15,
   "metadata": {
    "collapsed": false
   },
   "outputs": [],
   "source": [
    "with open(\"ml-100k/ml-100k_Train_list.txt\", \"wb\") as fp:  \n",
    "    pickle.dump(TRAIN_list, fp)\n",
    "          \n",
    "with open(\"ml-100k/ml-100k_Vali_list.txt\", \"wb\") as fp:  \n",
    "    pickle.dump(VALI_list, fp)\n",
    "          \n",
    "with open(\"ml-100k/ml-100k_Test_list.txt\", \"wb\") as fp:  \n",
    "    pickle.dump(TEST_list, fp)"
   ]
  },
  {
   "cell_type": "code",
   "execution_count": 16,
   "metadata": {
    "collapsed": true
   },
   "outputs": [],
   "source": [
    "with open(\"ml-100k/Movie_index_to_id.json\", 'w') as f:\n",
    "    json.dump(movie_index_to_id,f)"
   ]
  },
  {
   "cell_type": "code",
   "execution_count": null,
   "metadata": {
    "collapsed": true
   },
   "outputs": [],
   "source": []
  }
 ],
 "metadata": {
  "anaconda-cloud": {},
  "kernelspec": {
   "display_name": "Python [conda env:anaconda]",
   "language": "python",
   "name": "conda-env-anaconda-py"
  },
  "language_info": {
   "codemirror_mode": {
    "name": "ipython",
    "version": 2
   },
   "file_extension": ".py",
   "mimetype": "text/x-python",
   "name": "python",
   "nbconvert_exporter": "python",
   "pygments_lexer": "ipython2",
   "version": "2.7.12"
  }
 },
 "nbformat": 4,
 "nbformat_minor": 2
}
